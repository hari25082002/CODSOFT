{
 "cells": [
  {
   "cell_type": "markdown",
   "metadata": {},
   "source": [
    "TASK 4  Rock-Paper-Scissors Game"
   ]
  },
  {
   "cell_type": "code",
   "execution_count": 1,
   "metadata": {},
   "outputs": [],
   "source": [
    "import tkinter as tk\n",
    "from tkinter import ttk\n",
    "import random\n",
    "\n",
    "# Initialize the main window\n",
    "root = tk.Tk()\n",
    "root.title(\"Rock-Paper-Scissors Game\")\n",
    "root.geometry(\"350x300\")  # Set window size (optional)\n",
    "\n",
    "# Global score variables\n",
    "user_score = 0\n",
    "computer_score = 0\n",
    "\n",
    "# List of choices for the game\n",
    "choices = [\"Rock\", \"Paper\", \"Scissors\"]\n",
    "\n",
    "# Function to determine the game outcome\n",
    "def play_game():\n",
    "    global user_score, computer_score\n",
    "\n",
    "    user_choice = selected_choice.get()\n",
    "    computer_choice = random.choice(choices)\n",
    "\n",
    "    # Determine the outcome using game logic\n",
    "    if user_choice == computer_choice:\n",
    "        outcome = \"It's a tie!\"\n",
    "    elif (user_choice == \"Rock\" and computer_choice == \"Scissors\") or \\\n",
    "         (user_choice == \"Paper\" and computer_choice == \"Rock\") or \\\n",
    "         (user_choice == \"Scissors\" and computer_choice == \"Paper\"):\n",
    "        outcome = \"You win!\"\n",
    "        user_score += 1\n",
    "    else:\n",
    "        outcome = \"You lose!\"\n",
    "        computer_score += 1\n",
    "\n",
    "    # Update the result and score displays\n",
    "    result_text = (f\"You chose: {user_choice}\\n\"\n",
    "                   f\"Computer chose: {computer_choice}\\n\\n\"\n",
    "                   f\"{outcome}\")\n",
    "    result_label.config(text=result_text)\n",
    "    score_label.config(text=f\"User: {user_score}    Computer: {computer_score}\")\n",
    "\n",
    "# Label for instructions\n",
    "instruction_label = tk.Label(root, text=\"Choose your move:\", font=(\"Helvetica\", 12))\n",
    "instruction_label.pack(pady=10)\n",
    "\n",
    "# Tkinter variable and dropdown (Combobox) for user selection\n",
    "selected_choice = tk.StringVar(value=\"Rock\")  # Default is \"Rock\"\n",
    "dropdown = ttk.Combobox(root, textvariable=selected_choice, values=choices, state=\"readonly\", font=(\"Helvetica\", 10))\n",
    "dropdown.current(0)  # Ensure the default selection is set to \"Rock\"\n",
    "dropdown.pack(pady=5)\n",
    "\n",
    "# Button to play the game\n",
    "play_button = tk.Button(root, text=\"Play\", command=play_game, font=(\"Helvetica\", 12))\n",
    "play_button.pack(pady=10)\n",
    "\n",
    "# Label to display game result\n",
    "result_label = tk.Label(root, text=\"\", font=(\"Helvetica\", 12), justify=\"center\")\n",
    "result_label.pack(pady=10)\n",
    "\n",
    "# Label to display scores\n",
    "score_label = tk.Label(root, text=\"User: 0    Computer: 0\", font=(\"Helvetica\", 12))\n",
    "score_label.pack(pady=10)\n",
    "\n",
    "# Run the Tkinter event loop\n",
    "root.mainloop()\n"
   ]
  }
 ],
 "metadata": {
  "kernelspec": {
   "display_name": "Python 3",
   "language": "python",
   "name": "python3"
  },
  "language_info": {
   "codemirror_mode": {
    "name": "ipython",
    "version": 3
   },
   "file_extension": ".py",
   "mimetype": "text/x-python",
   "name": "python",
   "nbconvert_exporter": "python",
   "pygments_lexer": "ipython3",
   "version": "3.12.4"
  }
 },
 "nbformat": 4,
 "nbformat_minor": 2
}
